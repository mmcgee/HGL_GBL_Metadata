{
 "cells": [
  {
   "cell_type": "code",
   "execution_count": 2,
   "metadata": {},
   "outputs": [
    {
     "ename": "ModuleNotFoundError",
     "evalue": "No module named 'arcpy'",
     "output_type": "error",
     "traceback": [
      "\u001b[0;31m---------------------------------------------------------------------------\u001b[0m",
      "\u001b[0;31mModuleNotFoundError\u001b[0m                       Traceback (most recent call last)",
      "\u001b[0;32m<ipython-input-2-c735354f4b07>\u001b[0m in \u001b[0;36m<module>\u001b[0;34m\u001b[0m\n\u001b[1;32m      1\u001b[0m \u001b[0;32mimport\u001b[0m \u001b[0mos\u001b[0m\u001b[0;34m.\u001b[0m\u001b[0mpath\u001b[0m\u001b[0;34m\u001b[0m\u001b[0;34m\u001b[0m\u001b[0m\n\u001b[0;32m----> 2\u001b[0;31m \u001b[0;32mimport\u001b[0m \u001b[0marcpy\u001b[0m\u001b[0;34m\u001b[0m\u001b[0;34m\u001b[0m\u001b[0m\n\u001b[0m\u001b[1;32m      3\u001b[0m \u001b[0;32mfrom\u001b[0m \u001b[0marcpy\u001b[0m \u001b[0;32mimport\u001b[0m \u001b[0menv\u001b[0m\u001b[0;34m\u001b[0m\u001b[0;34m\u001b[0m\u001b[0m\n\u001b[1;32m      4\u001b[0m \u001b[0;34m\u001b[0m\u001b[0m\n\u001b[1;32m      5\u001b[0m \u001b[0;31m# Dani - Set this to the path of the folder where your JP2's are\u001b[0m\u001b[0;34m\u001b[0m\u001b[0;34m\u001b[0m\u001b[0;34m\u001b[0m\u001b[0m\n",
      "\u001b[0;31mModuleNotFoundError\u001b[0m: No module named 'arcpy'"
     ]
    }
   ],
   "source": [
    "import os.path\n",
    "import arcpy\n",
    "from arcpy import env\n",
    "\n",
    "# Dani - Set this to the path of the folder where your JP2's are\n",
    "# The GeoTiffs will go here too for now but that's easy to change.\n",
    "env.workspace = \"/Users/daniellebrown/Dropbox⁩/Work/Harvard/⁨HGL_Ingest/onDeck/July2012_1/\"\n",
    "\n",
    "\n",
    "# Get the projection code of an image file on disk\n",
    "def findProjections(aLayer):\n",
    "\n",
    "    # Describe the image\n",
    "    desc = arcpy.Describe(aLayer)\n",
    "    dataType = desc.dataType\n",
    "\n",
    "    if dataType != \"RasterDataset\":\n",
    "        print(\"[WARNING] Incorrect data type found for: \" + aLayer + \" Skipping...\")\n",
    "        return 0\n",
    "\n",
    "    WKIDCode = 1\n",
    "    GCSCode = desc.spatialReference.GCSCode\n",
    "    PCSCode = desc.spatialReference.PCSCode\n",
    "    WKIDCode = PCSCode\n",
    "\n",
    "    if PCSCode == 0:\n",
    "        WKIDCode = GCSCode\n",
    "\n",
    "    if WKIDCode == 54001:\n",
    "        print(\"[WARNING] Incorrect projection code (54001) found for LAYER: \" + aLayer + \" Skipping it...\")\n",
    "        return 0\n",
    "\n",
    "    return WKIDCode\n",
    "\n",
    "# Dani - Put the name(s) of the file(s) that are in env.workspace that you want to project here.\n",
    "# Use a comma after each file name except for the last. If there is only one file, than no comma\n",
    "# is needed.\n",
    "layerList = [\n",
    "    # use this format for file names: 'file1.jp2',\n",
    "\n",
    "    'G3420_1755_T7_1850.jp2'\n",
    "    \n",
    "\n",
    "\n",
    "]\n",
    "\n",
    "# Script starting point\n",
    "for name in layerList:\n",
    "    jp2FileName = name\n",
    "    fullDataPath = env.workspace + \"/\" + jp2FileName\n",
    "\n",
    "    # New file name for GeoTiff\n",
    "    geoTiffFileName = jp2FileName[0:jp2FileName.find('.jp2')]\n",
    "    newFilePath = env.workspace + \"/\" + geoTiffFileName + \"_orig.tif\"\n",
    "\n",
    "    if os.path.exists(env.workspace + \"/\" + name):\n",
    "        # Get the Well known ID of the JP2 image\n",
    "        WKIDCode = findProjections(fullDataPath)\n",
    "        if WKIDCode != 0:\n",
    "            print(\"Projecting....\")\n",
    "            # Set the spatial reference to EPSG of JP2K\n",
    "            sr = arcpy.SpatialReference(WKIDCode)\n",
    "            print(\"WKIDCode of \" + name + \" is: \", WKIDCode)\n",
    "            arcpy.ProjectRaster_management(fullDataPath, newFilePath, sr)\n",
    "    else:\n",
    "        print(\"[ERROR] File: \" + name + \" does not exist. Skipping...\")\n",
    "\n",
    "\n",
    "\n",
    "print(\"Finished converting...\")\n"
   ]
  },
  {
   "cell_type": "code",
   "execution_count": null,
   "metadata": {},
   "outputs": [],
   "source": []
  }
 ],
 "metadata": {
  "kernelspec": {
   "display_name": "Python 3",
   "language": "python",
   "name": "python3"
  },
  "language_info": {
   "codemirror_mode": {
    "name": "ipython",
    "version": 3
   },
   "file_extension": ".py",
   "mimetype": "text/x-python",
   "name": "python",
   "nbconvert_exporter": "python",
   "pygments_lexer": "ipython3",
   "version": "3.7.1"
  }
 },
 "nbformat": 4,
 "nbformat_minor": 2
}
